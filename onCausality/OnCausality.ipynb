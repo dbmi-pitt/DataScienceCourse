{
 "cells": [
  {
   "cell_type": "markdown",
   "metadata": {},
   "source": [
    "# Requirements\n",
    "* Install `pytorch`\n",
    "* You need python 3.5\n",
    "* Run the following commands on your bash screen:\n",
    "\n",
    "```\n",
    "$ git clone https://github.com/Diviyan-Kalainathan/CausalDiscoveryToolbox.git  # Download the package \n",
    "$ cd CausalDiscoveryToolbox\n",
    "$ pip install -r requirements.txt  # Install the requirements\n",
    "$ python setup.py install develop --user\n",
    "\n",
    "```\n",
    "**NOTE** Be careful about the last line that install the requirements. It is better to install them using `conda install -c anaconda ` instead. This way you don't mess up your python.\n",
    "\n",
    "Run the following:\n",
    "```\n",
    "pip install causality\n",
    "```"
   ]
  },
  {
   "cell_type": "markdown",
   "metadata": {},
   "source": [
    "# Setting up environment"
   ]
  },
  {
   "cell_type": "code",
   "execution_count": 1,
   "metadata": {},
   "outputs": [
    {
     "name": "stderr",
     "output_type": "stream",
     "text": [
      "Detecting 0 CUDA devices.\n",
      "No GPU automatically detected. Setting SETTINGS.GPU to 0, and SETTINGS.NB_JOBS to cpu_count.\n"
     ]
    }
   ],
   "source": [
    "import os\n",
    "import sys\n",
    "\n",
    "sys.path.append('/Users/kayhan/Projects/gitSandBox/CausalDiscoveryToolbox')\n",
    "\n",
    "# I am not sure we need all of the following -- clean up\n",
    "import cdt\n",
    "from cdt import SETTINGS\n",
    "SETTINGS.verbose=False\n",
    "SETTINGS.NB_JOBS=4\n",
    "import networkx as nx\n",
    "import time\n",
    "# A warning on R libraries might occur. It is for the use of the r libraries that could be imported into the framework\n",
    "import numpy as np\n",
    "import pandas as pd\n",
    "from matplotlib import pyplot as plt\n"
   ]
  },
  {
   "cell_type": "markdown",
   "metadata": {},
   "source": [
    "# Rearding data from Lung Cancer\n",
    "The dataset of this notebook are adopted from here:\n",
    "https://github.com/Diviyan-Kalainathan/CausalDiscoveryToolbox/blob/master/examples/Discovery_LUCAS.ipynb"
   ]
  },
  {
   "cell_type": "code",
   "execution_count": 7,
   "metadata": {},
   "outputs": [
    {
     "data": {
      "image/png": "[encoded data removed]",
      "text/plain": [
       "<Figure size 432x288 with 1 Axes>"
      ]
     },
     "metadata": {},
     "output_type": "display_data"
    },
    {
     "data": {
      "text/html": [
       "<div>\n",
       "<style scoped>\n",
       "    .dataframe tbody tr th:only-of-type {\n",
       "        vertical-align: middle;\n",
       "    }\n",
       "\n",
       "    .dataframe tbody tr th {\n",
       "        vertical-align: top;\n",
       "    }\n",
       "\n",
       "    .dataframe thead th {\n",
       "        text-align: right;\n",
       "    }\n",
       "</style>\n",
       "<table border=\"1\" class=\"dataframe\">\n",
       "  <thead>\n",
       "    <tr style=\"text-align: right;\">\n",
       "      <th></th>\n",
       "      <th>Allergy</th>\n",
       "      <th>Anxiety</th>\n",
       "      <th>Genetics</th>\n",
       "      <th>Peer_Pressure</th>\n",
       "      <th>Attention_Disorder</th>\n",
       "      <th>Smoking</th>\n",
       "      <th>Lung_Cancer</th>\n",
       "      <th>Yellow_Fingers</th>\n",
       "      <th>Coughing</th>\n",
       "      <th>Fatigue</th>\n",
       "      <th>Car_Accident</th>\n",
       "    </tr>\n",
       "  </thead>\n",
       "  <tbody>\n",
       "    <tr>\n",
       "      <th>0</th>\n",
       "      <td>-0.266076</td>\n",
       "      <td>0.460788</td>\n",
       "      <td>-0.359440</td>\n",
       "      <td>-0.403187</td>\n",
       "      <td>-0.228317</td>\n",
       "      <td>1.334455</td>\n",
       "      <td>0.574623</td>\n",
       "      <td>1.163336</td>\n",
       "      <td>0.982726</td>\n",
       "      <td>-0.840672</td>\n",
       "      <td>-0.508322</td>\n",
       "    </tr>\n",
       "    <tr>\n",
       "      <th>1</th>\n",
       "      <td>-0.579084</td>\n",
       "      <td>-0.846836</td>\n",
       "      <td>-0.295204</td>\n",
       "      <td>0.302683</td>\n",
       "      <td>-0.256269</td>\n",
       "      <td>-1.637193</td>\n",
       "      <td>-1.395067</td>\n",
       "      <td>0.154516</td>\n",
       "      <td>0.341314</td>\n",
       "      <td>0.933638</td>\n",
       "      <td>-1.075662</td>\n",
       "    </tr>\n",
       "    <tr>\n",
       "      <th>2</th>\n",
       "      <td>-0.105876</td>\n",
       "      <td>0.603170</td>\n",
       "      <td>-0.246007</td>\n",
       "      <td>-0.066926</td>\n",
       "      <td>-0.100983</td>\n",
       "      <td>0.500359</td>\n",
       "      <td>0.329122</td>\n",
       "      <td>0.199425</td>\n",
       "      <td>0.314847</td>\n",
       "      <td>-0.143226</td>\n",
       "      <td>-0.755328</td>\n",
       "    </tr>\n",
       "    <tr>\n",
       "      <th>3</th>\n",
       "      <td>0.727293</td>\n",
       "      <td>-0.949493</td>\n",
       "      <td>0.749637</td>\n",
       "      <td>-0.595794</td>\n",
       "      <td>0.809405</td>\n",
       "      <td>-0.586919</td>\n",
       "      <td>-0.130269</td>\n",
       "      <td>-0.840610</td>\n",
       "      <td>-0.691177</td>\n",
       "      <td>0.303761</td>\n",
       "      <td>-0.431910</td>\n",
       "    </tr>\n",
       "    <tr>\n",
       "      <th>4</th>\n",
       "      <td>-0.175018</td>\n",
       "      <td>-0.820478</td>\n",
       "      <td>-0.432949</td>\n",
       "      <td>-0.729511</td>\n",
       "      <td>-0.753609</td>\n",
       "      <td>-0.219810</td>\n",
       "      <td>-0.700120</td>\n",
       "      <td>-0.733240</td>\n",
       "      <td>-0.149308</td>\n",
       "      <td>0.854195</td>\n",
       "      <td>-0.633940</td>\n",
       "    </tr>\n",
       "  </tbody>\n",
       "</table>\n",
       "</div>"
      ],
      "text/plain": [
       "    Allergy   Anxiety  Genetics  Peer_Pressure  Attention_Disorder   Smoking  \\\n",
       "0 -0.266076  0.460788 -0.359440      -0.403187           -0.228317  1.334455   \n",
       "1 -0.579084 -0.846836 -0.295204       0.302683           -0.256269 -1.637193   \n",
       "2 -0.105876  0.603170 -0.246007      -0.066926           -0.100983  0.500359   \n",
       "3  0.727293 -0.949493  0.749637      -0.595794            0.809405 -0.586919   \n",
       "4 -0.175018 -0.820478 -0.432949      -0.729511           -0.753609 -0.219810   \n",
       "\n",
       "   Lung_Cancer  Yellow_Fingers  Coughing   Fatigue  Car_Accident  \n",
       "0     0.574623        1.163336  0.982726 -0.840672     -0.508322  \n",
       "1    -1.395067        0.154516  0.341314  0.933638     -1.075662  \n",
       "2     0.329122        0.199425  0.314847 -0.143226     -0.755328  \n",
       "3    -0.130269       -0.840610 -0.691177  0.303761     -0.431910  \n",
       "4    -0.700120       -0.733240 -0.149308  0.854195     -0.633940  "
      ]
     },
     "execution_count": 7,
     "metadata": {},
     "output_type": "execute_result"
    }
   ],
   "source": [
    "# Load data and graph solution\n",
    "data = pd.read_csv(\"NUM_LUCAS.csv\")\n",
    "solution = cdt.utils.read_list_edges(\"Lucas_graph.csv\")  \n",
    "nx.draw_networkx(solution, font_size=8,k=0.15,iterations=200) # The plot function allows for quick visualization of the graph. \n",
    "plt.show()\n",
    "data.head()"
   ]
  },
  {
   "cell_type": "markdown",
   "metadata": {},
   "source": [
    "In this part of the course, we do not focus on the how this graphs is given, we assume that it is given."
   ]
  },
  {
   "cell_type": "markdown",
   "metadata": {},
   "source": [
    "# What can (or cannot) learn from a regression\n",
    "Let's focus on three variables: *Yellow Finger* ($X$), *Smoking* ($Y$) , and *Lung Cancer* ($Z$). Let's say someone claims that yellow finger results in lung cancer! He say, I did a regression and they are correlated:"
   ]
  },
  {
   "cell_type": "code",
   "execution_count": 3,
   "metadata": {},
   "outputs": [
    {
     "data": {
      "image/png": "[encoded data removed]",
      "text/plain": [
       "<Figure size 432x432 with 9 Axes>"
      ]
     },
     "metadata": {},
     "output_type": "display_data"
    }
   ],
   "source": [
    "from pandas.plotting import scatter_matrix\n",
    "\n",
    "_ = scatter_matrix(data[['Lung_Cancer','Smoking','Yellow_Fingers']], alpha=0.2, figsize=(6, 6), diagonal='hist')"
   ]
  },
  {
   "cell_type": "code",
   "execution_count": 4,
   "metadata": {},
   "outputs": [
    {
     "data": {
      "text/html": [
       "<table class=\"simpletable\">\n",
       "<caption>OLS Regression Results</caption>\n",
       "<tr>\n",
       "  <th>Dep. Variable:</th>       <td>Lung_Cancer</td>   <th>  R-squared:         </th> <td>   0.186</td>\n",
       "</tr>\n",
       "<tr>\n",
       "  <th>Model:</th>                   <td>OLS</td>       <th>  Adj. R-squared:    </th> <td>   0.185</td>\n",
       "</tr>\n",
       "<tr>\n",
       "  <th>Method:</th>             <td>Least Squares</td>  <th>  F-statistic:       </th> <td>   114.3</td>\n",
       "</tr>\n",
       "<tr>\n",
       "  <th>Date:</th>             <td>Wed, 23 May 2018</td> <th>  Prob (F-statistic):</th> <td>3.65e-24</td>\n",
       "</tr>\n",
       "<tr>\n",
       "  <th>Time:</th>                 <td>11:45:03</td>     <th>  Log-Likelihood:    </th> <td> -657.90</td>\n",
       "</tr>\n",
       "<tr>\n",
       "  <th>No. Observations:</th>      <td>   500</td>      <th>  AIC:               </th> <td>   1318.</td>\n",
       "</tr>\n",
       "<tr>\n",
       "  <th>Df Residuals:</th>          <td>   499</td>      <th>  BIC:               </th> <td>   1322.</td>\n",
       "</tr>\n",
       "<tr>\n",
       "  <th>Df Model:</th>              <td>     1</td>      <th>                     </th>     <td> </td>   \n",
       "</tr>\n",
       "<tr>\n",
       "  <th>Covariance Type:</th>      <td>nonrobust</td>    <th>                     </th>     <td> </td>   \n",
       "</tr>\n",
       "</table>\n",
       "<table class=\"simpletable\">\n",
       "<tr>\n",
       "         <td></td>           <th>coef</th>     <th>std err</th>      <th>t</th>      <th>P>|t|</th>  <th>[0.025</th>    <th>0.975]</th>  \n",
       "</tr>\n",
       "<tr>\n",
       "  <th>Yellow_Fingers</th> <td>    0.4317</td> <td>    0.040</td> <td>   10.692</td> <td> 0.000</td> <td>    0.352</td> <td>    0.511</td>\n",
       "</tr>\n",
       "</table>\n",
       "<table class=\"simpletable\">\n",
       "<tr>\n",
       "  <th>Omnibus:</th>       <td>43.357</td> <th>  Durbin-Watson:     </th> <td>   2.006</td>\n",
       "</tr>\n",
       "<tr>\n",
       "  <th>Prob(Omnibus):</th> <td> 0.000</td> <th>  Jarque-Bera (JB):  </th> <td>  54.564</td>\n",
       "</tr>\n",
       "<tr>\n",
       "  <th>Skew:</th>          <td> 0.702</td> <th>  Prob(JB):          </th> <td>1.42e-12</td>\n",
       "</tr>\n",
       "<tr>\n",
       "  <th>Kurtosis:</th>      <td> 3.804</td> <th>  Cond. No.          </th> <td>    1.00</td>\n",
       "</tr>\n",
       "</table><br/><br/>Warnings:<br/>[1] Standard Errors assume that the covariance matrix of the errors is correctly specified."
      ],
      "text/plain": [
       "<class 'statsmodels.iolib.summary.Summary'>\n",
       "\"\"\"\n",
       "                            OLS Regression Results                            \n",
       "==============================================================================\n",
       "Dep. Variable:            Lung_Cancer   R-squared:                       0.186\n",
       "Model:                            OLS   Adj. R-squared:                  0.185\n",
       "Method:                 Least Squares   F-statistic:                     114.3\n",
       "Date:                Wed, 23 May 2018   Prob (F-statistic):           3.65e-24\n",
       "Time:                        11:45:03   Log-Likelihood:                -657.90\n",
       "No. Observations:                 500   AIC:                             1318.\n",
       "Df Residuals:                     499   BIC:                             1322.\n",
       "Df Model:                           1                                         \n",
       "Covariance Type:            nonrobust                                         \n",
       "==================================================================================\n",
       "                     coef    std err          t      P>|t|      [0.025      0.975]\n",
       "----------------------------------------------------------------------------------\n",
       "Yellow_Fingers     0.4317      0.040     10.692      0.000       0.352       0.511\n",
       "==============================================================================\n",
       "Omnibus:                       43.357   Durbin-Watson:                   2.006\n",
       "Prob(Omnibus):                  0.000   Jarque-Bera (JB):               54.564\n",
       "Skew:                           0.702   Prob(JB):                     1.42e-12\n",
       "Kurtosis:                       3.804   Cond. No.                         1.00\n",
       "==============================================================================\n",
       "\n",
       "Warnings:\n",
       "[1] Standard Errors assume that the covariance matrix of the errors is correctly specified.\n",
       "\"\"\""
      ]
     },
     "execution_count": 4,
     "metadata": {},
     "output_type": "execute_result"
    }
   ],
   "source": [
    "from statsmodels.regression.linear_model import OLS\n",
    "\n",
    "model = OLS(data[['Lung_Cancer']], data[['Yellow_Fingers']])\n",
    "result = model.fit()\n",
    "result.summary()"
   ]
  },
  {
   "cell_type": "markdown",
   "metadata": {},
   "source": [
    "What if we combine it with smoking history:"
   ]
  },
  {
   "cell_type": "code",
   "execution_count": 5,
   "metadata": {},
   "outputs": [
    {
     "data": {
      "text/html": [
       "<table class=\"simpletable\">\n",
       "<caption>OLS Regression Results</caption>\n",
       "<tr>\n",
       "  <th>Dep. Variable:</th>       <td>Lung_Cancer</td>   <th>  R-squared:         </th> <td>   0.340</td>\n",
       "</tr>\n",
       "<tr>\n",
       "  <th>Model:</th>                   <td>OLS</td>       <th>  Adj. R-squared:    </th> <td>   0.338</td>\n",
       "</tr>\n",
       "<tr>\n",
       "  <th>Method:</th>             <td>Least Squares</td>  <th>  F-statistic:       </th> <td>   128.4</td>\n",
       "</tr>\n",
       "<tr>\n",
       "  <th>Date:</th>             <td>Wed, 23 May 2018</td> <th>  Prob (F-statistic):</th> <td>1.04e-45</td>\n",
       "</tr>\n",
       "<tr>\n",
       "  <th>Time:</th>                 <td>11:47:06</td>     <th>  Log-Likelihood:    </th> <td> -605.48</td>\n",
       "</tr>\n",
       "<tr>\n",
       "  <th>No. Observations:</th>      <td>   500</td>      <th>  AIC:               </th> <td>   1215.</td>\n",
       "</tr>\n",
       "<tr>\n",
       "  <th>Df Residuals:</th>          <td>   498</td>      <th>  BIC:               </th> <td>   1223.</td>\n",
       "</tr>\n",
       "<tr>\n",
       "  <th>Df Model:</th>              <td>     2</td>      <th>                     </th>     <td> </td>   \n",
       "</tr>\n",
       "<tr>\n",
       "  <th>Covariance Type:</th>      <td>nonrobust</td>    <th>                     </th>     <td> </td>   \n",
       "</tr>\n",
       "</table>\n",
       "<table class=\"simpletable\">\n",
       "<tr>\n",
       "         <td></td>           <th>coef</th>     <th>std err</th>      <th>t</th>      <th>P>|t|</th>  <th>[0.025</th>    <th>0.975]</th>  \n",
       "</tr>\n",
       "<tr>\n",
       "  <th>Yellow_Fingers</th> <td>    0.0210</td> <td>    0.053</td> <td>    0.398</td> <td> 0.691</td> <td>   -0.083</td> <td>    0.125</td>\n",
       "</tr>\n",
       "<tr>\n",
       "  <th>Smoking</th>        <td>    0.5680</td> <td>    0.053</td> <td>   10.779</td> <td> 0.000</td> <td>    0.464</td> <td>    0.672</td>\n",
       "</tr>\n",
       "</table>\n",
       "<table class=\"simpletable\">\n",
       "<tr>\n",
       "  <th>Omnibus:</th>       <td>63.411</td> <th>  Durbin-Watson:     </th> <td>   2.049</td>\n",
       "</tr>\n",
       "<tr>\n",
       "  <th>Prob(Omnibus):</th> <td> 0.000</td> <th>  Jarque-Bera (JB):  </th> <td>  92.851</td>\n",
       "</tr>\n",
       "<tr>\n",
       "  <th>Skew:</th>          <td> 0.858</td> <th>  Prob(JB):          </th> <td>6.88e-21</td>\n",
       "</tr>\n",
       "<tr>\n",
       "  <th>Kurtosis:</th>      <td> 4.230</td> <th>  Cond. No.          </th> <td>    2.49</td>\n",
       "</tr>\n",
       "</table><br/><br/>Warnings:<br/>[1] Standard Errors assume that the covariance matrix of the errors is correctly specified."
      ],
      "text/plain": [
       "<class 'statsmodels.iolib.summary.Summary'>\n",
       "\"\"\"\n",
       "                            OLS Regression Results                            \n",
       "==============================================================================\n",
       "Dep. Variable:            Lung_Cancer   R-squared:                       0.340\n",
       "Model:                            OLS   Adj. R-squared:                  0.338\n",
       "Method:                 Least Squares   F-statistic:                     128.4\n",
       "Date:                Wed, 23 May 2018   Prob (F-statistic):           1.04e-45\n",
       "Time:                        11:47:06   Log-Likelihood:                -605.48\n",
       "No. Observations:                 500   AIC:                             1215.\n",
       "Df Residuals:                     498   BIC:                             1223.\n",
       "Df Model:                           2                                         \n",
       "Covariance Type:            nonrobust                                         \n",
       "==================================================================================\n",
       "                     coef    std err          t      P>|t|      [0.025      0.975]\n",
       "----------------------------------------------------------------------------------\n",
       "Yellow_Fingers     0.0210      0.053      0.398      0.691      -0.083       0.125\n",
       "Smoking            0.5680      0.053     10.779      0.000       0.464       0.672\n",
       "==============================================================================\n",
       "Omnibus:                       63.411   Durbin-Watson:                   2.049\n",
       "Prob(Omnibus):                  0.000   Jarque-Bera (JB):               92.851\n",
       "Skew:                           0.858   Prob(JB):                     6.88e-21\n",
       "Kurtosis:                       4.230   Cond. No.                         2.49\n",
       "==============================================================================\n",
       "\n",
       "Warnings:\n",
       "[1] Standard Errors assume that the covariance matrix of the errors is correctly specified.\n",
       "\"\"\""
      ]
     },
     "execution_count": 5,
     "metadata": {},
     "output_type": "execute_result"
    }
   ],
   "source": [
    "model = OLS(data[['Lung_Cancer']],data[['Yellow_Fingers','Smoking']])\n",
    "result = model.fit()\n",
    "result.summary()"
   ]
  },
  {
   "cell_type": "markdown",
   "metadata": {},
   "source": [
    "## P-Value is not everything\n",
    "You can see from the graph that genetic has indirect effect on the car accident through attention disorder. Let's perform gression:"
   ]
  },
  {
   "cell_type": "code",
   "execution_count": 13,
   "metadata": {},
   "outputs": [
    {
     "name": "stdout",
     "output_type": "stream",
     "text": [
      "(Genetics) -> Car_Accident \n"
     ]
    },
    {
     "data": {
      "text/html": [
       "<table class=\"simpletable\">\n",
       "<caption>OLS Regression Results</caption>\n",
       "<tr>\n",
       "  <th>Dep. Variable:</th>      <td>Car_Accident</td>   <th>  R-squared:         </th> <td>   0.002</td>\n",
       "</tr>\n",
       "<tr>\n",
       "  <th>Model:</th>                   <td>OLS</td>       <th>  Adj. R-squared:    </th> <td>   0.000</td>\n",
       "</tr>\n",
       "<tr>\n",
       "  <th>Method:</th>             <td>Least Squares</td>  <th>  F-statistic:       </th> <td>   1.201</td>\n",
       "</tr>\n",
       "<tr>\n",
       "  <th>Date:</th>             <td>Wed, 23 May 2018</td> <th>  Prob (F-statistic):</th>  <td> 0.274</td> \n",
       "</tr>\n",
       "<tr>\n",
       "  <th>Time:</th>                 <td>12:18:50</td>     <th>  Log-Likelihood:    </th> <td> -708.87</td>\n",
       "</tr>\n",
       "<tr>\n",
       "  <th>No. Observations:</th>      <td>   500</td>      <th>  AIC:               </th> <td>   1420.</td>\n",
       "</tr>\n",
       "<tr>\n",
       "  <th>Df Residuals:</th>          <td>   499</td>      <th>  BIC:               </th> <td>   1424.</td>\n",
       "</tr>\n",
       "<tr>\n",
       "  <th>Df Model:</th>              <td>     1</td>      <th>                     </th>     <td> </td>   \n",
       "</tr>\n",
       "<tr>\n",
       "  <th>Covariance Type:</th>      <td>nonrobust</td>    <th>                     </th>     <td> </td>   \n",
       "</tr>\n",
       "</table>\n",
       "<table class=\"simpletable\">\n",
       "<tr>\n",
       "      <td></td>        <th>coef</th>     <th>std err</th>      <th>t</th>      <th>P>|t|</th>  <th>[0.025</th>    <th>0.975]</th>  \n",
       "</tr>\n",
       "<tr>\n",
       "  <th>Genetics</th> <td>   -0.0833</td> <td>    0.076</td> <td>   -1.096</td> <td> 0.274</td> <td>   -0.233</td> <td>    0.066</td>\n",
       "</tr>\n",
       "</table>\n",
       "<table class=\"simpletable\">\n",
       "<tr>\n",
       "  <th>Omnibus:</th>       <td>227.556</td> <th>  Durbin-Watson:     </th> <td>   2.033</td>\n",
       "</tr>\n",
       "<tr>\n",
       "  <th>Prob(Omnibus):</th> <td> 0.000</td>  <th>  Jarque-Bera (JB):  </th> <td>1470.171</td>\n",
       "</tr>\n",
       "<tr>\n",
       "  <th>Skew:</th>          <td> 1.881</td>  <th>  Prob(JB):          </th> <td>    0.00</td>\n",
       "</tr>\n",
       "<tr>\n",
       "  <th>Kurtosis:</th>      <td>10.511</td>  <th>  Cond. No.          </th> <td>    1.00</td>\n",
       "</tr>\n",
       "</table><br/><br/>Warnings:<br/>[1] Standard Errors assume that the covariance matrix of the errors is correctly specified."
      ],
      "text/plain": [
       "<class 'statsmodels.iolib.summary.Summary'>\n",
       "\"\"\"\n",
       "                            OLS Regression Results                            \n",
       "==============================================================================\n",
       "Dep. Variable:           Car_Accident   R-squared:                       0.002\n",
       "Model:                            OLS   Adj. R-squared:                  0.000\n",
       "Method:                 Least Squares   F-statistic:                     1.201\n",
       "Date:                Wed, 23 May 2018   Prob (F-statistic):              0.274\n",
       "Time:                        12:18:50   Log-Likelihood:                -708.87\n",
       "No. Observations:                 500   AIC:                             1420.\n",
       "Df Residuals:                     499   BIC:                             1424.\n",
       "Df Model:                           1                                         \n",
       "Covariance Type:            nonrobust                                         \n",
       "==============================================================================\n",
       "                 coef    std err          t      P>|t|      [0.025      0.975]\n",
       "------------------------------------------------------------------------------\n",
       "Genetics      -0.0833      0.076     -1.096      0.274      -0.233       0.066\n",
       "==============================================================================\n",
       "Omnibus:                      227.556   Durbin-Watson:                   2.033\n",
       "Prob(Omnibus):                  0.000   Jarque-Bera (JB):             1470.171\n",
       "Skew:                           1.881   Prob(JB):                         0.00\n",
       "Kurtosis:                      10.511   Cond. No.                         1.00\n",
       "==============================================================================\n",
       "\n",
       "Warnings:\n",
       "[1] Standard Errors assume that the covariance matrix of the errors is correctly specified.\n",
       "\"\"\""
      ]
     },
     "execution_count": 13,
     "metadata": {},
     "output_type": "execute_result"
    }
   ],
   "source": [
    "print(\"(Genetics) -> Car_Accident \")\n",
    "model = OLS(data[['Car_Accident']],data[['Genetics']])\n",
    "result = model.fit()\n",
    "result.summary() "
   ]
  },
  {
   "cell_type": "markdown",
   "metadata": {},
   "source": [
    "The p-value does not show significant association! Remeber, this is the p-value of the null hypothesis. If p-value is not less than a threshold, all it means is that \"there is not *enough* evidence to reject the null hypothesis.\" Not rejecting the null hypothesis does not mean that we can accept it!"
   ]
  },
  {
   "cell_type": "markdown",
   "metadata": {},
   "source": [
    "# Funny business of the V-structure\n",
    "Does lung cancer results in allergy ? We do **Not** expect the answer to that question to be \"Yes\" because one can these two seems to be independent. Let's run regression both ways and inspect the results:"
   ]
  },
  {
   "cell_type": "code",
   "execution_count": 18,
   "metadata": {},
   "outputs": [
    {
     "name": "stdout",
     "output_type": "stream",
     "text": [
      "(Lung_Cancer) -> Allergy \n",
      "                            OLS Regression Results                            \n",
      "==============================================================================\n",
      "Dep. Variable:                Allergy   R-squared:                       0.005\n",
      "Model:                            OLS   Adj. R-squared:                  0.003\n",
      "Method:                 Least Squares   F-statistic:                     2.720\n",
      "Date:                Wed, 23 May 2018   Prob (F-statistic):             0.0997\n",
      "Time:                        12:42:45   Log-Likelihood:                -419.78\n",
      "No. Observations:                 500   AIC:                             841.6\n",
      "Df Residuals:                     499   BIC:                             845.8\n",
      "Df Model:                           1                                         \n",
      "Covariance Type:            nonrobust                                         \n",
      "===============================================================================\n",
      "                  coef    std err          t      P>|t|      [0.025      0.975]\n",
      "-------------------------------------------------------------------------------\n",
      "Lung_Cancer     0.0414      0.025      1.649      0.100      -0.008       0.091\n",
      "==============================================================================\n",
      "Omnibus:                      146.674   Durbin-Watson:                   1.915\n",
      "Prob(Omnibus):                  0.000   Jarque-Bera (JB):               24.050\n",
      "Skew:                           0.013   Prob(JB):                     5.99e-06\n",
      "Kurtosis:                       1.926   Cond. No.                         1.00\n",
      "==============================================================================\n",
      "\n",
      "Warnings:\n",
      "[1] Standard Errors assume that the covariance matrix of the errors is correctly specified.\n",
      "(Allergy) -> Lung_Cancer \n",
      "                            OLS Regression Results                            \n",
      "==============================================================================\n",
      "Dep. Variable:            Lung_Cancer   R-squared:                       0.005\n",
      "Model:                            OLS   Adj. R-squared:                  0.003\n",
      "Method:                 Least Squares   F-statistic:                     2.720\n",
      "Date:                Wed, 23 May 2018   Prob (F-statistic):             0.0997\n",
      "Time:                        12:42:45   Log-Likelihood:                -708.11\n",
      "No. Observations:                 500   AIC:                             1418.\n",
      "Df Residuals:                     499   BIC:                             1422.\n",
      "Df Model:                           1                                         \n",
      "Covariance Type:            nonrobust                                         \n",
      "==============================================================================\n",
      "                 coef    std err          t      P>|t|      [0.025      0.975]\n",
      "------------------------------------------------------------------------------\n",
      "Allergy        0.1311      0.079      1.649      0.100      -0.025       0.287\n",
      "==============================================================================\n",
      "Omnibus:                       70.067   Durbin-Watson:                   2.056\n",
      "Prob(Omnibus):                  0.000   Jarque-Bera (JB):              101.764\n",
      "Skew:                           0.946   Prob(JB):                     7.99e-23\n",
      "Kurtosis:                       4.143   Cond. No.                         1.00\n",
      "==============================================================================\n",
      "\n",
      "Warnings:\n",
      "[1] Standard Errors assume that the covariance matrix of the errors is correctly specified.\n"
     ]
    }
   ],
   "source": [
    "print(\"(Lung_Cancer) -> Allergy \")\n",
    "model = OLS(data[['Allergy']],data[['Lung_Cancer']])\n",
    "result = model.fit()\n",
    "print( result.summary() )\n",
    "\n",
    "\n",
    "print(\"(Allergy) -> Lung_Cancer \")\n",
    "model = OLS(data[['Lung_Cancer']],data[['Allergy']])\n",
    "result = model.fit()\n",
    "print( result.summary() )\n",
    "\n"
   ]
  },
  {
   "cell_type": "markdown",
   "metadata": {},
   "source": [
    "As expected, the p-value of the regression is not significant in either way. \n",
    "\n",
    "**Question**: What if we include the Coughing into the regression?"
   ]
  },
  {
   "cell_type": "code",
   "execution_count": 20,
   "metadata": {},
   "outputs": [
    {
     "name": "stdout",
     "output_type": "stream",
     "text": [
      "%%%%%%%%%%%%%%%%%%%%%%%%%%%%%%%%%%%%%%%%%%%%%%%%%%%%%%%%%%%%%%%%%%%%%%%%%\n",
      "(Coughing, Lung_Cancer) -> Allergy \n",
      "                            OLS Regression Results                            \n",
      "==============================================================================\n",
      "Dep. Variable:                Allergy   R-squared:                       0.695\n",
      "Model:                            OLS   Adj. R-squared:                  0.693\n",
      "Method:                 Least Squares   F-statistic:                     566.5\n",
      "Date:                Wed, 23 May 2018   Prob (F-statistic):          5.11e-129\n",
      "Time:                        12:49:08   Log-Likelihood:                -124.55\n",
      "No. Observations:                 500   AIC:                             253.1\n",
      "Df Residuals:                     498   BIC:                             261.5\n",
      "Df Model:                           2                                         \n",
      "Covariance Type:            nonrobust                                         \n",
      "===============================================================================\n",
      "                  coef    std err          t      P>|t|      [0.025      0.975]\n",
      "-------------------------------------------------------------------------------\n",
      "Coughing       -0.5820      0.017    -33.529      0.000      -0.616      -0.548\n",
      "Lung_Cancer     0.3895      0.017     22.440      0.000       0.355       0.424\n",
      "==============================================================================\n",
      "Omnibus:                       31.090   Durbin-Watson:                   2.026\n",
      "Prob(Omnibus):                  0.000   Jarque-Bera (JB):              107.616\n",
      "Skew:                           0.085   Prob(JB):                     4.28e-24\n",
      "Kurtosis:                       5.266   Cond. No.                         1.99\n",
      "==============================================================================\n",
      "\n",
      "Warnings:\n",
      "[1] Standard Errors assume that the covariance matrix of the errors is correctly specified.\n",
      "%%%%%%%%%%%%%%%%%%%%%%%%%%%%%%%%%%%%%%%%%%%%%%%%%%%%%%%%%%%%%%%%%%%%%%%%%\n",
      "(Coughing, Allergy) -> Lung_Cancer \n",
      "                            OLS Regression Results                            \n",
      "==============================================================================\n",
      "Dep. Variable:            Lung_Cancer   R-squared:                       0.681\n",
      "Model:                            OLS   Adj. R-squared:                  0.679\n",
      "Method:                 Least Squares   F-statistic:                     530.8\n",
      "Date:                Wed, 23 May 2018   Prob (F-statistic):          3.54e-124\n",
      "Time:                        12:49:08   Log-Likelihood:                -424.07\n",
      "No. Observations:                 500   AIC:                             852.1\n",
      "Df Residuals:                     498   BIC:                             860.6\n",
      "Df Model:                           2                                         \n",
      "Covariance Type:            nonrobust                                         \n",
      "==============================================================================\n",
      "                 coef    std err          t      P>|t|      [0.025      0.975]\n",
      "------------------------------------------------------------------------------\n",
      "Coughing       1.0487      0.032     32.452      0.000       0.985       1.112\n",
      "Allergy        1.2908      0.058     22.440      0.000       1.178       1.404\n",
      "==============================================================================\n",
      "Omnibus:                      219.056   Durbin-Watson:                   2.001\n",
      "Prob(Omnibus):                  0.000   Jarque-Bera (JB):             3116.466\n",
      "Skew:                           1.512   Prob(JB):                         0.00\n",
      "Kurtosis:                      14.851   Cond. No.                         2.60\n",
      "==============================================================================\n",
      "\n",
      "Warnings:\n",
      "[1] Standard Errors assume that the covariance matrix of the errors is correctly specified.\n"
     ]
    }
   ],
   "source": [
    "print(\"%%%%%%%%%%%%%%%%%%%%%%%%%%%%%%%%%%%%%%%%%%%%%%%%%%%%%%%%%%%%%%%%%%%%%%%%%\")\n",
    "print(\"(Coughing, Lung_Cancer) -> Allergy \")\n",
    "model = OLS(data[['Allergy']],data[['Coughing','Lung_Cancer']])\n",
    "result = model.fit()\n",
    "print( result.summary() )\n",
    "\n",
    "print(\"%%%%%%%%%%%%%%%%%%%%%%%%%%%%%%%%%%%%%%%%%%%%%%%%%%%%%%%%%%%%%%%%%%%%%%%%%\")\n",
    "print(\"(Coughing, Allergy) -> Lung_Cancer \")\n",
    "model = OLS(data[['Lung_Cancer']],data[['Coughing','Allergy']])\n",
    "result = model.fit()\n",
    "print( result.summary() )"
   ]
  },
  {
   "cell_type": "markdown",
   "metadata": {},
   "source": [
    "Wow! in both regressions \"Allergy\" and \"Lung Cancer\" become associated! However, this happens due to the presence of \"Coughing.\" Both allergy and lung cancer can cause coughing, so there is so-called V-structure there $\\text{Allergy} \\rightarrow \\text{Coughing} \\leftarrow \\text{Lung Cancer}$. If I know someone is coughing and he does not have lung cancer, I may conclude that he has an allergy. Of course, this is a simple world, and I am assuming there is no other explanation!"
   ]
  },
  {
   "cell_type": "markdown",
   "metadata": {},
   "source": [
    "#################"
   ]
  },
  {
   "cell_type": "markdown",
   "metadata": {},
   "source": [
    "**Question :** If I run two regressions to predict variable $Y$, say $(X) \\rightarrow Y$ and $(X,Z) \\rightarrow Y$. In the second one, $Z$ becomes insignificant. Can I infer that $Z$ has indirect effect?"
   ]
  },
  {
   "cell_type": "code",
   "execution_count": 12,
   "metadata": {},
   "outputs": [
    {
     "name": "stdout",
     "output_type": "stream",
     "text": [
      "(Genetics) -> Car_Accident \n",
      "                            OLS Regression Results                            \n",
      "==============================================================================\n",
      "Dep. Variable:           Car_Accident   R-squared:                       0.002\n",
      "Model:                            OLS   Adj. R-squared:                  0.000\n",
      "Method:                 Least Squares   F-statistic:                     1.201\n",
      "Date:                Wed, 23 May 2018   Prob (F-statistic):              0.274\n",
      "Time:                        12:11:45   Log-Likelihood:                -708.87\n",
      "No. Observations:                 500   AIC:                             1420.\n",
      "Df Residuals:                     499   BIC:                             1424.\n",
      "Df Model:                           1                                         \n",
      "Covariance Type:            nonrobust                                         \n",
      "==============================================================================\n",
      "                 coef    std err          t      P>|t|      [0.025      0.975]\n",
      "------------------------------------------------------------------------------\n",
      "Genetics      -0.0833      0.076     -1.096      0.274      -0.233       0.066\n",
      "==============================================================================\n",
      "Omnibus:                      227.556   Durbin-Watson:                   2.033\n",
      "Prob(Omnibus):                  0.000   Jarque-Bera (JB):             1470.171\n",
      "Skew:                           1.881   Prob(JB):                         0.00\n",
      "Kurtosis:                      10.511   Cond. No.                         1.00\n",
      "==============================================================================\n",
      "\n",
      "Warnings:\n",
      "[1] Standard Errors assume that the covariance matrix of the errors is correctly specified.\n",
      "%%%%%%%%%%%%%%%%%%%%%%%%%%%%%%%%%%%%%%%%%%%%%%%%%%%%%%%%%%%%%%%%%%%%%%%%%\n",
      "(Genetics, Attention_Disorder) -> Car_Accident \n",
      "                            OLS Regression Results                            \n",
      "==============================================================================\n",
      "Dep. Variable:           Car_Accident   R-squared:                       0.463\n",
      "Model:                            OLS   Adj. R-squared:                  0.461\n",
      "Method:                 Least Squares   F-statistic:                     214.8\n",
      "Date:                Wed, 23 May 2018   Prob (F-statistic):           5.49e-68\n",
      "Time:                        12:11:45   Log-Likelihood:                -553.97\n",
      "No. Observations:                 500   AIC:                             1112.\n",
      "Df Residuals:                     498   BIC:                             1120.\n",
      "Df Model:                           2                                         \n",
      "Covariance Type:            nonrobust                                         \n",
      "======================================================================================\n",
      "                         coef    std err          t      P>|t|      [0.025      0.975]\n",
      "--------------------------------------------------------------------------------------\n",
      "Attention_Disorder    -0.1038      0.033     -3.137      0.002      -0.169      -0.039\n",
      "Fatigue               -0.6602      0.033    -19.959      0.000      -0.725      -0.595\n",
      "==============================================================================\n",
      "Omnibus:                      184.797   Durbin-Watson:                   1.994\n",
      "Prob(Omnibus):                  0.000   Jarque-Bera (JB):             1140.214\n",
      "Skew:                           1.477   Prob(JB):                    2.55e-248\n",
      "Kurtosis:                       9.783   Cond. No.                         1.13\n",
      "==============================================================================\n",
      "\n",
      "Warnings:\n",
      "[1] Standard Errors assume that the covariance matrix of the errors is correctly specified.\n"
     ]
    }
   ],
   "source": [
    "print(\"(Genetics) -> Car_Accident \")\n",
    "model = OLS(data[['Car_Accident']],data[['Genetics']])\n",
    "result = model.fit()\n",
    "print( result.summary() )\n",
    "\n",
    "print(\"%%%%%%%%%%%%%%%%%%%%%%%%%%%%%%%%%%%%%%%%%%%%%%%%%%%%%%%%%%%%%%%%%%%%%%%%%\")\n",
    "print(\"(Genetics, Attention_Disorder) -> Car_Accident \")\n",
    "model = OLS(data[['Car_Accident']],data[['Attention_Disorder','Fatigue']])\n",
    "result = model.fit()\n",
    "print( result.summary() )"
   ]
  },
  {
   "cell_type": "markdown",
   "metadata": {},
   "source": [
    "Interesting! Now that we have included the smoking history, the yellow finger become insignificant. .... [WRITE MORE]"
   ]
  },
  {
   "cell_type": "markdown",
   "metadata": {},
   "source": [
    "# Conditional Independence\n",
    "\n",
    "Explain the notion of conditional independce . Use medium..\n"
   ]
  },
  {
   "cell_type": "markdown",
   "metadata": {},
   "source": [
    "# What is Propensity score"
   ]
  },
  {
   "cell_type": "markdown",
   "metadata": {},
   "source": [
    "# Refs\n",
    "[1] https://medium.com/@akelleh/a-technical-primer-on-causality-181db2575e41\n",
    "\n",
    "[2] https://medium.com/causal-data-science/understanding-bias-a-pre-requisite-for-trustworthy-results-ee590b75b1be\n",
    "\n",
    "[3] https://github.com/Diviyan-Kalainathan/causal-humans\n",
    "\n",
    "[4] https://github.com/Diviyan-Kalainathan/CausalDiscoveryToolbox\n",
    "\n",
    "[5] https://github.com/Diviyan-Kalainathan/medi-chal\n",
    "\n",
    "[6] https://github.com/akelleh/causality\n"
   ]
  }
 ],
 "metadata": {
  "kernelspec": {
   "display_name": "Python 3",
   "language": "python",
   "name": "python3"
  },
  "language_info": {
   "codemirror_mode": {
    "name": "ipython",
    "version": 3
   },
   "file_extension": ".py",
   "mimetype": "text/x-python",
   "name": "python",
   "nbconvert_exporter": "python",
   "pygments_lexer": "ipython3",
   "version": "3.6.5"
  }
 },
 "nbformat": 4,
 "nbformat_minor": 2
}
